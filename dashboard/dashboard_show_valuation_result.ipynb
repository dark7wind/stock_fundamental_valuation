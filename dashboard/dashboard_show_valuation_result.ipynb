{
 "cells": [
  {
   "cell_type": "code",
   "execution_count": 1,
   "source": [
    "import pandas as pd\r\n",
    "import numpy as np\r\n",
    "import matplotlib.pyplot as plt\r\n",
    "import yaml\r\n",
    "# import MySQLdb as mdb\r\n",
    "import numpy as np\r\n",
    "import param\r\n",
    "import panel as pn\r\n",
    "import os\r\n",
    "from io import StringIO\r\n",
    "\r\n",
    "# config\r\n",
    "pn.extension()"
   ],
   "outputs": [
    {
     "output_type": "display_data",
     "data": {
      "application/javascript": "\n(function(root) {\n  function now() {\n    return new Date();\n  }\n\n  var force = true;\n\n  if (typeof root._bokeh_onload_callbacks === \"undefined\" || force === true) {\n    root._bokeh_onload_callbacks = [];\n    root._bokeh_is_loading = undefined;\n  }\n\n  if (typeof (root._bokeh_timeout) === \"undefined\" || force === true) {\n    root._bokeh_timeout = Date.now() + 5000;\n    root._bokeh_failed_load = false;\n  }\n\n  function run_callbacks() {\n    try {\n      root._bokeh_onload_callbacks.forEach(function(callback) {\n        if (callback != null)\n          callback();\n      });\n    } finally {\n      delete root._bokeh_onload_callbacks\n    }\n    console.debug(\"Bokeh: all callbacks have finished\");\n  }\n\n  function load_libs(css_urls, js_urls, js_modules, callback) {\n    if (css_urls == null) css_urls = [];\n    if (js_urls == null) js_urls = [];\n    if (js_modules == null) js_modules = [];\n\n    root._bokeh_onload_callbacks.push(callback);\n    if (root._bokeh_is_loading > 0) {\n      console.debug(\"Bokeh: BokehJS is being loaded, scheduling callback at\", now());\n      return null;\n    }\n    if (js_urls.length === 0 && js_modules.length === 0) {\n      run_callbacks();\n      return null;\n    }\n    console.debug(\"Bokeh: BokehJS not loaded, scheduling load and callback at\", now());\n    root._bokeh_is_loading = css_urls.length + js_urls.length + js_modules.length;\n\n    function on_load() {\n      root._bokeh_is_loading--;\n      if (root._bokeh_is_loading === 0) {\n        console.debug(\"Bokeh: all BokehJS libraries/stylesheets loaded\");\n        run_callbacks()\n      }\n    }\n\n    function on_error() {\n      console.error(\"failed to load \" + url);\n    }\n\n    for (var i = 0; i < css_urls.length; i++) {\n      var url = css_urls[i];\n      const element = document.createElement(\"link\");\n      element.onload = on_load;\n      element.onerror = on_error;\n      element.rel = \"stylesheet\";\n      element.type = \"text/css\";\n      element.href = url;\n      console.debug(\"Bokeh: injecting link tag for BokehJS stylesheet: \", url);\n      document.body.appendChild(element);\n    }\n\n    var skip = [];\n    if (window.requirejs) {\n      window.requirejs.config({'packages': {}, 'paths': {}, 'shim': {}});\n      \n    }\n    for (var i = 0; i < js_urls.length; i++) {\n      var url = js_urls[i];\n      if (skip.indexOf(url) >= 0) { on_load(); continue; }\n      var element = document.createElement('script');\n      element.onload = on_load;\n      element.onerror = on_error;\n      element.async = false;\n      element.src = url;\n      console.debug(\"Bokeh: injecting script tag for BokehJS library: \", url);\n      document.head.appendChild(element);\n    }\n    for (var i = 0; i < js_modules.length; i++) {\n      var url = js_modules[i];\n      if (skip.indexOf(url) >= 0) { on_load(); continue; }\n      var element = document.createElement('script');\n      element.onload = on_load;\n      element.onerror = on_error;\n      element.async = false;\n      element.src = url;\n      element.type = \"module\";\n      console.debug(\"Bokeh: injecting script tag for BokehJS library: \", url);\n      document.head.appendChild(element);\n    }\n    if (!js_urls.length && !js_modules.length) {\n      on_load()\n    }\n  };\n\n  function inject_raw_css(css) {\n    const element = document.createElement(\"style\");\n    element.appendChild(document.createTextNode(css));\n    document.body.appendChild(element);\n  }\n\n  var js_urls = [\"https://cdn.bokeh.org/bokeh/release/bokeh-2.3.3.min.js\", \"https://cdn.bokeh.org/bokeh/release/bokeh-widgets-2.3.3.min.js\", \"https://cdn.bokeh.org/bokeh/release/bokeh-tables-2.3.3.min.js\", \"https://unpkg.com/@holoviz/panel@0.12.1/dist/panel.min.js\"];\n  var js_modules = [];\n  var css_urls = [\"https://unpkg.com/@holoviz/panel@0.12.1/dist/css/alerts.css\", \"https://unpkg.com/@holoviz/panel@0.12.1/dist/css/card.css\", \"https://unpkg.com/@holoviz/panel@0.12.1/dist/css/dataframe.css\", \"https://unpkg.com/@holoviz/panel@0.12.1/dist/css/json.css\", \"https://unpkg.com/@holoviz/panel@0.12.1/dist/css/loading.css\", \"https://unpkg.com/@holoviz/panel@0.12.1/dist/css/markdown.css\", \"https://unpkg.com/@holoviz/panel@0.12.1/dist/css/widgets.css\"];\n  var inline_js = [\n    function(Bokeh) {\n      inject_raw_css(\"\\n    .bk.pn-loading.arcs:before {\\n      background-image: url(\\\"data:image/svg+xml;base64,PHN2ZyB4bWxucz0iaHR0cDovL3d3dy53My5vcmcvMjAwMC9zdmciIHhtbG5zOnhsaW5rPSJodHRwOi8vd3d3LnczLm9yZy8xOTk5L3hsaW5rIiBzdHlsZT0ibWFyZ2luOiBhdXRvOyBiYWNrZ3JvdW5kOiBub25lOyBkaXNwbGF5OiBibG9jazsgc2hhcGUtcmVuZGVyaW5nOiBhdXRvOyIgdmlld0JveD0iMCAwIDEwMCAxMDAiIHByZXNlcnZlQXNwZWN0UmF0aW89InhNaWRZTWlkIj4gIDxjaXJjbGUgY3g9IjUwIiBjeT0iNTAiIHI9IjMyIiBzdHJva2Utd2lkdGg9IjgiIHN0cm9rZT0iI2MzYzNjMyIgc3Ryb2tlLWRhc2hhcnJheT0iNTAuMjY1NDgyNDU3NDM2NjkgNTAuMjY1NDgyNDU3NDM2NjkiIGZpbGw9Im5vbmUiIHN0cm9rZS1saW5lY2FwPSJyb3VuZCI+ICAgIDxhbmltYXRlVHJhbnNmb3JtIGF0dHJpYnV0ZU5hbWU9InRyYW5zZm9ybSIgdHlwZT0icm90YXRlIiByZXBlYXRDb3VudD0iaW5kZWZpbml0ZSIgZHVyPSIxcyIga2V5VGltZXM9IjA7MSIgdmFsdWVzPSIwIDUwIDUwOzM2MCA1MCA1MCI+PC9hbmltYXRlVHJhbnNmb3JtPiAgPC9jaXJjbGU+PC9zdmc+\\\")\\n    }\\n    \");\n    },\n    function(Bokeh) {\n      Bokeh.set_log_level(\"info\");\n    },\n    function(Bokeh) {} // ensure no trailing comma for IE\n  ];\n\n  function run_inline_js() {\n    if ((root.Bokeh !== undefined) || (force === true)) {\n      for (var i = 0; i < inline_js.length; i++) {\n        inline_js[i].call(root, root.Bokeh);\n      }} else if (Date.now() < root._bokeh_timeout) {\n      setTimeout(run_inline_js, 100);\n    } else if (!root._bokeh_failed_load) {\n      console.log(\"Bokeh: BokehJS failed to load within specified timeout.\");\n      root._bokeh_failed_load = true;\n    }\n  }\n\n  if (root._bokeh_is_loading === 0) {\n    console.debug(\"Bokeh: BokehJS loaded, going straight to plotting\");\n    run_inline_js();\n  } else {\n    load_libs(css_urls, js_urls, js_modules, function() {\n      console.debug(\"Bokeh: BokehJS plotting callback run at\", now());\n      run_inline_js();\n    });\n  }\n}(window));",
      "application/vnd.holoviews_load.v0+json": ""
     },
     "metadata": {}
    },
    {
     "output_type": "display_data",
     "data": {
      "application/javascript": "\nif ((window.PyViz === undefined) || (window.PyViz instanceof HTMLElement)) {\n  window.PyViz = {comms: {}, comm_status:{}, kernels:{}, receivers: {}, plot_index: []}\n}\n\n\n    function JupyterCommManager() {\n    }\n\n    JupyterCommManager.prototype.register_target = function(plot_id, comm_id, msg_handler) {\n      if (window.comm_manager || ((window.Jupyter !== undefined) && (Jupyter.notebook.kernel != null))) {\n        var comm_manager = window.comm_manager || Jupyter.notebook.kernel.comm_manager;\n        comm_manager.register_target(comm_id, function(comm) {\n          comm.on_msg(msg_handler);\n        });\n      } else if ((plot_id in window.PyViz.kernels) && (window.PyViz.kernels[plot_id])) {\n        window.PyViz.kernels[plot_id].registerCommTarget(comm_id, function(comm) {\n          comm.onMsg = msg_handler;\n        });\n      } else if (typeof google != 'undefined' && google.colab.kernel != null) {\n        google.colab.kernel.comms.registerTarget(comm_id, (comm) => {\n          var messages = comm.messages[Symbol.asyncIterator]();\n          function processIteratorResult(result) {\n            var message = result.value;\n            console.log(message)\n            var content = {data: message.data, comm_id};\n            var buffers = []\n            for (var buffer of message.buffers || []) {\n              buffers.push(new DataView(buffer))\n            }\n            var metadata = message.metadata || {};\n            var msg = {content, buffers, metadata}\n            msg_handler(msg);\n            return messages.next().then(processIteratorResult);\n          }\n          return messages.next().then(processIteratorResult);\n        })\n      }\n    }\n\n    JupyterCommManager.prototype.get_client_comm = function(plot_id, comm_id, msg_handler) {\n      if (comm_id in window.PyViz.comms) {\n        return window.PyViz.comms[comm_id];\n      } else if (window.comm_manager || ((window.Jupyter !== undefined) && (Jupyter.notebook.kernel != null))) {\n        var comm_manager = window.comm_manager || Jupyter.notebook.kernel.comm_manager;\n        var comm = comm_manager.new_comm(comm_id, {}, {}, {}, comm_id);\n        if (msg_handler) {\n          comm.on_msg(msg_handler);\n        }\n      } else if ((plot_id in window.PyViz.kernels) && (window.PyViz.kernels[plot_id])) {\n        var comm = window.PyViz.kernels[plot_id].connectToComm(comm_id);\n        comm.open();\n        if (msg_handler) {\n          comm.onMsg = msg_handler;\n        }\n      } else if (typeof google != 'undefined' && google.colab.kernel != null) {\n        var comm_promise = google.colab.kernel.comms.open(comm_id)\n        comm_promise.then((comm) => {\n          window.PyViz.comms[comm_id] = comm;\n          if (msg_handler) {\n            var messages = comm.messages[Symbol.asyncIterator]();\n            function processIteratorResult(result) {\n              var message = result.value;\n              var content = {data: message.data};\n              var metadata = message.metadata || {comm_id};\n              var msg = {content, metadata}\n              msg_handler(msg);\n              return messages.next().then(processIteratorResult);\n            }\n            return messages.next().then(processIteratorResult);\n          }\n        }) \n        var sendClosure = (data, metadata, buffers, disposeOnDone) => {\n          return comm_promise.then((comm) => {\n            comm.send(data, metadata, buffers, disposeOnDone);\n          });\n        };\n        var comm = {\n          send: sendClosure\n        };\n      }\n      window.PyViz.comms[comm_id] = comm;\n      return comm;\n    }\n    window.PyViz.comm_manager = new JupyterCommManager();\n    \n\n\nvar JS_MIME_TYPE = 'application/javascript';\nvar HTML_MIME_TYPE = 'text/html';\nvar EXEC_MIME_TYPE = 'application/vnd.holoviews_exec.v0+json';\nvar CLASS_NAME = 'output';\n\n/**\n * Render data to the DOM node\n */\nfunction render(props, node) {\n  var div = document.createElement(\"div\");\n  var script = document.createElement(\"script\");\n  node.appendChild(div);\n  node.appendChild(script);\n}\n\n/**\n * Handle when a new output is added\n */\nfunction handle_add_output(event, handle) {\n  var output_area = handle.output_area;\n  var output = handle.output;\n  if ((output.data == undefined) || (!output.data.hasOwnProperty(EXEC_MIME_TYPE))) {\n    return\n  }\n  var id = output.metadata[EXEC_MIME_TYPE][\"id\"];\n  var toinsert = output_area.element.find(\".\" + CLASS_NAME.split(' ')[0]);\n  if (id !== undefined) {\n    var nchildren = toinsert.length;\n    var html_node = toinsert[nchildren-1].children[0];\n    html_node.innerHTML = output.data[HTML_MIME_TYPE];\n    var scripts = [];\n    var nodelist = html_node.querySelectorAll(\"script\");\n    for (var i in nodelist) {\n      if (nodelist.hasOwnProperty(i)) {\n        scripts.push(nodelist[i])\n      }\n    }\n\n    scripts.forEach( function (oldScript) {\n      var newScript = document.createElement(\"script\");\n      var attrs = [];\n      var nodemap = oldScript.attributes;\n      for (var j in nodemap) {\n        if (nodemap.hasOwnProperty(j)) {\n          attrs.push(nodemap[j])\n        }\n      }\n      attrs.forEach(function(attr) { newScript.setAttribute(attr.name, attr.value) });\n      newScript.appendChild(document.createTextNode(oldScript.innerHTML));\n      oldScript.parentNode.replaceChild(newScript, oldScript);\n    });\n    if (JS_MIME_TYPE in output.data) {\n      toinsert[nchildren-1].children[1].textContent = output.data[JS_MIME_TYPE];\n    }\n    output_area._hv_plot_id = id;\n    if ((window.Bokeh !== undefined) && (id in Bokeh.index)) {\n      window.PyViz.plot_index[id] = Bokeh.index[id];\n    } else {\n      window.PyViz.plot_index[id] = null;\n    }\n  } else if (output.metadata[EXEC_MIME_TYPE][\"server_id\"] !== undefined) {\n    var bk_div = document.createElement(\"div\");\n    bk_div.innerHTML = output.data[HTML_MIME_TYPE];\n    var script_attrs = bk_div.children[0].attributes;\n    for (var i = 0; i < script_attrs.length; i++) {\n      toinsert[toinsert.length - 1].childNodes[1].setAttribute(script_attrs[i].name, script_attrs[i].value);\n    }\n    // store reference to server id on output_area\n    output_area._bokeh_server_id = output.metadata[EXEC_MIME_TYPE][\"server_id\"];\n  }\n}\n\n/**\n * Handle when an output is cleared or removed\n */\nfunction handle_clear_output(event, handle) {\n  var id = handle.cell.output_area._hv_plot_id;\n  var server_id = handle.cell.output_area._bokeh_server_id;\n  if (((id === undefined) || !(id in PyViz.plot_index)) && (server_id !== undefined)) { return; }\n  var comm = window.PyViz.comm_manager.get_client_comm(\"hv-extension-comm\", \"hv-extension-comm\", function () {});\n  if (server_id !== null) {\n    comm.send({event_type: 'server_delete', 'id': server_id});\n    return;\n  } else if (comm !== null) {\n    comm.send({event_type: 'delete', 'id': id});\n  }\n  delete PyViz.plot_index[id];\n  if ((window.Bokeh !== undefined) & (id in window.Bokeh.index)) {\n    var doc = window.Bokeh.index[id].model.document\n    doc.clear();\n    const i = window.Bokeh.documents.indexOf(doc);\n    if (i > -1) {\n      window.Bokeh.documents.splice(i, 1);\n    }\n  }\n}\n\n/**\n * Handle kernel restart event\n */\nfunction handle_kernel_cleanup(event, handle) {\n  delete PyViz.comms[\"hv-extension-comm\"];\n  window.PyViz.plot_index = {}\n}\n\n/**\n * Handle update_display_data messages\n */\nfunction handle_update_output(event, handle) {\n  handle_clear_output(event, {cell: {output_area: handle.output_area}})\n  handle_add_output(event, handle)\n}\n\nfunction register_renderer(events, OutputArea) {\n  function append_mime(data, metadata, element) {\n    // create a DOM node to render to\n    var toinsert = this.create_output_subarea(\n    metadata,\n    CLASS_NAME,\n    EXEC_MIME_TYPE\n    );\n    this.keyboard_manager.register_events(toinsert);\n    // Render to node\n    var props = {data: data, metadata: metadata[EXEC_MIME_TYPE]};\n    render(props, toinsert[0]);\n    element.append(toinsert);\n    return toinsert\n  }\n\n  events.on('output_added.OutputArea', handle_add_output);\n  events.on('output_updated.OutputArea', handle_update_output);\n  events.on('clear_output.CodeCell', handle_clear_output);\n  events.on('delete.Cell', handle_clear_output);\n  events.on('kernel_ready.Kernel', handle_kernel_cleanup);\n\n  OutputArea.prototype.register_mime_type(EXEC_MIME_TYPE, append_mime, {\n    safe: true,\n    index: 0\n  });\n}\n\nif (window.Jupyter !== undefined) {\n  try {\n    var events = require('base/js/events');\n    var OutputArea = require('notebook/js/outputarea').OutputArea;\n    if (OutputArea.prototype.mime_types().indexOf(EXEC_MIME_TYPE) == -1) {\n      register_renderer(events, OutputArea);\n    }\n  } catch(err) {\n  }\n}\n",
      "application/vnd.holoviews_load.v0+json": ""
     },
     "metadata": {}
    }
   ],
   "metadata": {}
  },
  {
   "cell_type": "code",
   "execution_count": 2,
   "source": [
    "def callback_load_dataframe(target, event):\r\n",
    "    file = event.new\r\n",
    "    result = str(file, 'utf-8')\r\n",
    "    data = StringIO(result)\r\n",
    "    target.value = pd.read_csv(data)\r\n",
    "\r\n",
    "widget_df_load = pn.widgets.DataFrame()\r\n",
    "widget_df_load.height=500\r\n",
    "widget_df_load_copy = pn.widgets.DataFrame()\r\n",
    "widget_file_input = pn.widgets.FileInput()\r\n",
    "widget_file_input.width = 400    \r\n",
    "widget_file_input.link(widget_df_load, callbacks={'value': callback_load_dataframe})\r\n",
    "widget_file_input.link(widget_df_load_copy, callbacks={'value': callback_load_dataframe})\r\n"
   ],
   "outputs": [
    {
     "output_type": "execute_result",
     "data": {
      "text/plain": [
       "Watcher(inst=FileInput(width=400), cls=<class 'panel.widgets.input.FileInput'>, fn=<function Reactive.link.<locals>.link at 0x000002C3958ABE58>, mode='args', onlychanged=True, parameter_names=('value',), what='value', queued=False)"
      ]
     },
     "metadata": {},
     "execution_count": 2
    }
   ],
   "metadata": {}
  },
  {
   "cell_type": "code",
   "execution_count": 3,
   "source": [
    "# cross selector\r\n",
    "def callback_cross_select_ticker(target, event):\r\n",
    "    target.value = widget_df_load_copy.value.loc[widget_df_load_copy.value['ticker'].isin(event.new)]\r\n",
    "\r\n",
    "\r\n",
    "widget_cross_selector_ticker = pn.widgets.CrossSelector(name='Ticker', value=[], \r\n",
    "                                                        options=list(widget_df_load_copy.value.ticker.unique()))\r\n",
    "\r\n",
    "widget_cross_selector_ticker.link(widget_df_load, callbacks={'value': callback_cross_select_ticker})\r\n",
    "\r\n",
    "## may need pipeline"
   ],
   "outputs": [
    {
     "output_type": "error",
     "ename": "AttributeError",
     "evalue": "'NoneType' object has no attribute 'ticker'",
     "traceback": [
      "\u001b[1;31m---------------------------------------------------------------------------\u001b[0m",
      "\u001b[1;31mAttributeError\u001b[0m                            Traceback (most recent call last)",
      "\u001b[1;32m<ipython-input-3-a1e562c28dcb>\u001b[0m in \u001b[0;36m<module>\u001b[1;34m\u001b[0m\n\u001b[0;32m      5\u001b[0m \u001b[1;33m\u001b[0m\u001b[0m\n\u001b[0;32m      6\u001b[0m widget_cross_selector_ticker = pn.widgets.CrossSelector(name='Ticker', value=[], \n\u001b[1;32m----> 7\u001b[1;33m                                                         options=list(widget_df_load_copy.value.ticker.unique()))\n\u001b[0m\u001b[0;32m      8\u001b[0m \u001b[1;33m\u001b[0m\u001b[0m\n\u001b[0;32m      9\u001b[0m \u001b[0mwidget_cross_selector_ticker\u001b[0m\u001b[1;33m.\u001b[0m\u001b[0mlink\u001b[0m\u001b[1;33m(\u001b[0m\u001b[0mwidget_df_load\u001b[0m\u001b[1;33m,\u001b[0m \u001b[0mcallbacks\u001b[0m\u001b[1;33m=\u001b[0m\u001b[1;33m{\u001b[0m\u001b[1;34m'value'\u001b[0m\u001b[1;33m:\u001b[0m \u001b[0mcallback_cross_select_ticker\u001b[0m\u001b[1;33m}\u001b[0m\u001b[1;33m)\u001b[0m\u001b[1;33m\u001b[0m\u001b[1;33m\u001b[0m\u001b[0m\n",
      "\u001b[1;31mAttributeError\u001b[0m: 'NoneType' object has no attribute 'ticker'"
     ]
    }
   ],
   "metadata": {}
  },
  {
   "cell_type": "code",
   "execution_count": 43,
   "source": [
    "def callback_price_to_value_filter(target, event):\r\n",
    "    if event.new == 'All':\r\n",
    "        target.value = widget_df_load_copy.value\r\n",
    "    if event.new == '[0, 1]':\r\n",
    "        target.value = widget_df_load_copy.value.loc[(widget_df_load_copy.value['price_to_value'] > 0 ) & (widget_df_load_copy.value['price_to_value'] <= 1)]\r\n",
    "    if event.new == '[1, 2]':\r\n",
    "        target.value = widget_df_load_copy.value.loc[(widget_df_load_copy.value['price_to_value'] > 1 ) & (widget_df_load_copy.value['price_to_value'] <= 2)]\r\n",
    "    if event.new == '[2, 3]':\r\n",
    "        target.value = widget_df_load_copy.value.loc[(widget_df_load_copy.value['price_to_value'] > 2 ) & (widget_df_load_copy.value['price_to_value'] <= 3)]\r\n",
    "    if event.new == '[3, inf]':\r\n",
    "        target.value = widget_df_load_copy.value.loc[(widget_df_load_copy.value['price_to_value'] > 3 ) ]\r\n",
    "    if event.new == '[-inf, 0]':\r\n",
    "        target.value = widget_df_load_copy.value.loc[(widget_df_load_copy.value['price_to_value'] <= 0)]\r\n",
    "    if event.new == 'NaN':\r\n",
    "        target.value = widget_df_load_copy.value.loc[np.isnan(widget_df_load_copy.value['price_to_value'])]\r\n",
    "\r\n",
    "widget_select_price_to_value = pn.widgets.Select(name='Price to Value', options=['All', '[0, 1]', '[1, 2]', '[2, 3]', '[3, inf]', '[-inf, 0]', 'NaN'])\r\n",
    "widget_select_price_to_value.link(widget_df_load, callbacks={'value': callback_price_to_value_filter})"
   ],
   "outputs": [
    {
     "output_type": "execute_result",
     "data": {
      "text/plain": [
       "Watcher(inst=Select(name='Price to Value', options=['All', '[0, 1]', ...], value='All'), cls=<class 'panel.widgets.select.Select'>, fn=<function Reactive.link.<locals>.link at 0x000002988A069828>, mode='args', onlychanged=True, parameter_names=('value',), what='value', queued=False)"
      ]
     },
     "metadata": {},
     "execution_count": 43
    }
   ],
   "metadata": {}
  },
  {
   "cell_type": "code",
   "execution_count": 44,
   "source": [
    "# reset button\n",
    "def callback_reset_dataframe(event):\n",
    "    widget_cross_selector_ticker.value = list()\n",
    "    widget_df_load.value = widget_df_load_copy.value\n",
    "    \n",
    "\n",
    "\n",
    "widget_button_reset = pn.widgets.Button(name='Reset', button_type='primary')\n",
    "widget_button_reset.on_click(callback_reset_dataframe)"
   ],
   "outputs": [],
   "metadata": {}
  },
  {
   "cell_type": "code",
   "execution_count": 45,
   "source": [
    "panel = pn.Row(pn.Column(widget_file_input, widget_cross_selector_ticker, widget_select_price_to_value, widget_button_reset), widget_df_load)\n",
    "#panel.show()\n",
    "panel"
   ],
   "outputs": [
    {
     "output_type": "display_data",
     "data": {},
     "metadata": {}
    },
    {
     "output_type": "execute_result",
     "data": {
      "text/html": [
       "<div id='1482'>\n",
       "\n",
       "\n",
       "\n",
       "\n",
       "\n",
       "  <div class=\"bk-root\" id=\"fb5dacb3-bfbe-4e08-9fc1-caf8e30a8c35\" data-root-id=\"1482\"></div>\n",
       "</div>\n",
       "<script type=\"application/javascript\">(function(root) {\n",
       "  function embed_document(root) {\n",
       "    var docs_json = {\"357cdd32-c5b3-4eff-a8f4-8379a1ff6241\":{\"defs\":[{\"extends\":null,\"module\":null,\"name\":\"ReactiveHTML1\",\"overrides\":[],\"properties\":[]},{\"extends\":null,\"module\":null,\"name\":\"FlexBox1\",\"overrides\":[],\"properties\":[{\"default\":\"flex-start\",\"kind\":null,\"name\":\"align_content\"},{\"default\":\"flex-start\",\"kind\":null,\"name\":\"align_items\"},{\"default\":\"row\",\"kind\":null,\"name\":\"flex_direction\"},{\"default\":\"wrap\",\"kind\":null,\"name\":\"flex_wrap\"},{\"default\":\"flex-start\",\"kind\":null,\"name\":\"justify_content\"}]},{\"extends\":null,\"module\":null,\"name\":\"TemplateActions1\",\"overrides\":[],\"properties\":[{\"default\":0,\"kind\":null,\"name\":\"open_modal\"},{\"default\":0,\"kind\":null,\"name\":\"close_modal\"}]},{\"extends\":null,\"module\":null,\"name\":\"MaterialTemplateActions1\",\"overrides\":[],\"properties\":[{\"default\":0,\"kind\":null,\"name\":\"open_modal\"},{\"default\":0,\"kind\":null,\"name\":\"close_modal\"}]}],\"roots\":{\"references\":[{\"attributes\":{\"indices\":[]},\"id\":\"1501\",\"type\":\"Selection\"},{\"attributes\":{\"children\":[{\"id\":\"1486\"},{\"id\":\"1489\"},{\"id\":\"1495\"}],\"height\":200,\"margin\":[5,10,5,10],\"min_height\":200,\"min_width\":600,\"name\":\"Ticker\",\"width\":600},\"id\":\"1485\",\"type\":\"Row\"},{\"attributes\":{\"children\":[{\"id\":\"1492\"},{\"id\":\"1493\"}],\"margin\":[0,5,0,5],\"name\":\"Column00192\"},\"id\":\"1491\",\"type\":\"Column\"},{\"attributes\":{\"disabled\":true,\"margin\":[0,0,0,0],\"max_length\":5000,\"placeholder\":\"To select an item highlight it on the left and use the arrow button to move it to the right.\",\"sizing_mode\":\"stretch_both\"},\"id\":\"1497\",\"type\":\"TextAreaInput\"},{\"attributes\":{\"children\":[{\"id\":\"1496\"},{\"id\":\"1497\"}],\"margin\":[0,0,0,0],\"name\":\"Column00191\",\"sizing_mode\":\"stretch_both\"},\"id\":\"1495\",\"type\":\"Column\"},{\"attributes\":{\"margin\":[5,10,5,10],\"min_width\":400,\"width\":400},\"id\":\"1484\",\"type\":\"FileInput\"},{\"attributes\":{\"margin\":[5,5,5,5],\"name\":\"VSpacer00194\",\"sizing_mode\":\"stretch_height\"},\"id\":\"1494\",\"type\":\"Spacer\"},{\"attributes\":{\"button_type\":\"primary\",\"icon\":null,\"label\":\"Reset\",\"margin\":[5,10,5,10],\"subscribed_events\":[\"button_click\"]},\"id\":\"1499\",\"type\":\"Button\"},{\"attributes\":{\"children\":[{\"id\":\"1483\"},{\"id\":\"1502\"}],\"margin\":[0,0,0,0],\"name\":\"Row00199\"},\"id\":\"1482\",\"type\":\"Row\"},{\"attributes\":{\"children\":[{\"id\":\"1484\"},{\"id\":\"1485\"},{\"id\":\"1498\"},{\"id\":\"1499\"}],\"margin\":[0,0,0,0],\"name\":\"Column00198\"},\"id\":\"1483\",\"type\":\"Column\"},{\"attributes\":{\"margin\":[0,0,10,0],\"max_length\":5000,\"placeholder\":\"Filter selected options\",\"width_policy\":\"max\"},\"id\":\"1496\",\"type\":\"TextInput\"},{\"attributes\":{\"client_comm_id\":\"720d1413d2bc40e1bbc488b11f273935\",\"comm_id\":\"296eca27d9574e1e85666d14224a8049\",\"plot_id\":\"1482\"},\"id\":\"1512\",\"type\":\"panel.models.comm_manager.CommManager\"},{\"attributes\":{\"editable\":true,\"height\":500,\"index_position\":null,\"margin\":[5,10,5,10],\"name\":\"\",\"row_height\":40,\"source\":{\"id\":\"1500\"},\"view\":{\"id\":\"1504\"}},\"id\":\"1502\",\"type\":\"DataTable\"},{\"attributes\":{\"icon\":null,\"label\":\">>\",\"margin\":[5,10,5,10],\"min_width\":50,\"subscribed_events\":[\"button_click\"],\"width\":50},\"id\":\"1492\",\"type\":\"Button\"},{\"attributes\":{\"icon\":null,\"label\":\"<<\",\"margin\":[5,10,5,10],\"min_width\":50,\"subscribed_events\":[\"button_click\"],\"width\":50},\"id\":\"1493\",\"type\":\"Button\"},{\"attributes\":{\"data\":{},\"selected\":{\"id\":\"1501\"},\"selection_policy\":{\"id\":\"1507\"}},\"id\":\"1500\",\"type\":\"ColumnDataSource\"},{\"attributes\":{\"children\":[{\"id\":\"1487\"},{\"id\":\"1488\"}],\"margin\":[0,0,0,0],\"name\":\"Column00190\",\"sizing_mode\":\"stretch_both\"},\"id\":\"1486\",\"type\":\"Column\"},{\"attributes\":{\"margin\":[5,5,5,5],\"name\":\"VSpacer00193\",\"sizing_mode\":\"stretch_height\"},\"id\":\"1490\",\"type\":\"Spacer\"},{\"attributes\":{\"source\":{\"id\":\"1500\"}},\"id\":\"1504\",\"type\":\"CDSView\"},{\"attributes\":{\"margin\":[0,0,10,0],\"max_length\":5000,\"placeholder\":\"Filter available options\",\"width_policy\":\"max\"},\"id\":\"1487\",\"type\":\"TextInput\"},{\"attributes\":{},\"id\":\"1507\",\"type\":\"UnionRenderers\"},{\"attributes\":{\"margin\":[0,0,0,0],\"options\":[\"\"],\"size\":10,\"sizing_mode\":\"stretch_both\"},\"id\":\"1488\",\"type\":\"MultiSelect\"},{\"attributes\":{\"margin\":[5,10,5,10],\"options\":[\"All\",\"[0, 1]\",\"[1, 2]\",\"[2, 3]\",\"[3, inf]\",\"[-inf, 0]\",\"NaN\"],\"title\":\"Price to Value\",\"value\":\"All\"},\"id\":\"1498\",\"type\":\"Select\"},{\"attributes\":{\"children\":[{\"id\":\"1490\"},{\"id\":\"1491\"},{\"id\":\"1494\"}],\"margin\":[0,0,0,0],\"name\":\"Column00195\"},\"id\":\"1489\",\"type\":\"Column\"}],\"root_ids\":[\"1482\",\"1512\"]},\"title\":\"Bokeh Application\",\"version\":\"2.3.3\"}};\n",
       "    var render_items = [{\"docid\":\"357cdd32-c5b3-4eff-a8f4-8379a1ff6241\",\"root_ids\":[\"1482\"],\"roots\":{\"1482\":\"fb5dacb3-bfbe-4e08-9fc1-caf8e30a8c35\"}}];\n",
       "    root.Bokeh.embed.embed_items_notebook(docs_json, render_items);\n",
       "  }\n",
       "  if (root.Bokeh !== undefined && root.Bokeh.Panel !== undefined) {\n",
       "    embed_document(root);\n",
       "  } else {\n",
       "    var attempts = 0;\n",
       "    var timer = setInterval(function(root) {\n",
       "      if (root.Bokeh !== undefined && root.Bokeh.Panel !== undefined) {\n",
       "        clearInterval(timer);\n",
       "        embed_document(root);\n",
       "      } else if (document.readyState == \"complete\") {\n",
       "        attempts++;\n",
       "        if (attempts > 200) {\n",
       "          clearInterval(timer);\n",
       "          console.log(\"Bokeh: ERROR: Unable to run BokehJS code because BokehJS library is missing\");\n",
       "        }\n",
       "      }\n",
       "    }, 25, root)\n",
       "  }\n",
       "})(window);</script>"
      ],
      "text/plain": [
       "Row\n",
       "    [0] Column\n",
       "        [0] FileInput(width=400)\n",
       "        [1] CrossSelector(name='Ticker', options=[''])\n",
       "        [2] Select(name='Price to Value', options=['All', '[0, 1]', ...], value='All')\n",
       "        [3] Button(button_type='primary', name='Reset')\n",
       "    [1] DataFrame(height=500)"
      ],
      "application/vnd.holoviews_exec.v0+json": ""
     },
     "metadata": {
      "application/vnd.holoviews_exec.v0+json": {
       "id": "1482"
      }
     },
     "execution_count": 45
    }
   ],
   "metadata": {}
  },
  {
   "cell_type": "code",
   "execution_count": 46,
   "source": [
    "widget_df_load_copy.value"
   ],
   "outputs": [
    {
     "output_type": "execute_result",
     "data": {
      "text/html": [
       "<div>\n",
       "<style scoped>\n",
       "    .dataframe tbody tr th:only-of-type {\n",
       "        vertical-align: middle;\n",
       "    }\n",
       "\n",
       "    .dataframe tbody tr th {\n",
       "        vertical-align: top;\n",
       "    }\n",
       "\n",
       "    .dataframe thead th {\n",
       "        text-align: right;\n",
       "    }\n",
       "</style>\n",
       "<table border=\"1\" class=\"dataframe\">\n",
       "  <thead>\n",
       "    <tr style=\"text-align: right;\">\n",
       "      <th></th>\n",
       "      <th>ticker</th>\n",
       "      <th>current_price</th>\n",
       "      <th>estimated_value</th>\n",
       "      <th>price_to_value</th>\n",
       "    </tr>\n",
       "  </thead>\n",
       "  <tbody>\n",
       "    <tr>\n",
       "      <th>0</th>\n",
       "      <td>PNR</td>\n",
       "      <td>64.31</td>\n",
       "      <td>32.952902</td>\n",
       "      <td>1.951573</td>\n",
       "    </tr>\n",
       "    <tr>\n",
       "      <th>1</th>\n",
       "      <td>ALLE</td>\n",
       "      <td>138.35</td>\n",
       "      <td>81.129186</td>\n",
       "      <td>1.705305</td>\n",
       "    </tr>\n",
       "    <tr>\n",
       "      <th>2</th>\n",
       "      <td>ITW</td>\n",
       "      <td>228.52</td>\n",
       "      <td>79.627078</td>\n",
       "      <td>2.869878</td>\n",
       "    </tr>\n",
       "    <tr>\n",
       "      <th>3</th>\n",
       "      <td>AMAT</td>\n",
       "      <td>134.86</td>\n",
       "      <td>83.984804</td>\n",
       "      <td>1.605767</td>\n",
       "    </tr>\n",
       "    <tr>\n",
       "      <th>4</th>\n",
       "      <td>NWL</td>\n",
       "      <td>26.54</td>\n",
       "      <td>8.312449</td>\n",
       "      <td>3.192802</td>\n",
       "    </tr>\n",
       "    <tr>\n",
       "      <th>...</th>\n",
       "      <td>...</td>\n",
       "      <td>...</td>\n",
       "      <td>...</td>\n",
       "      <td>...</td>\n",
       "    </tr>\n",
       "    <tr>\n",
       "      <th>500</th>\n",
       "      <td>UAL</td>\n",
       "      <td>53.11</td>\n",
       "      <td>-62.801429</td>\n",
       "      <td>-0.845681</td>\n",
       "    </tr>\n",
       "    <tr>\n",
       "      <th>501</th>\n",
       "      <td>CDW</td>\n",
       "      <td>182.61</td>\n",
       "      <td>111.451585</td>\n",
       "      <td>1.638469</td>\n",
       "    </tr>\n",
       "    <tr>\n",
       "      <th>502</th>\n",
       "      <td>MU</td>\n",
       "      <td>86.03</td>\n",
       "      <td>98.714240</td>\n",
       "      <td>0.871505</td>\n",
       "    </tr>\n",
       "    <tr>\n",
       "      <th>503</th>\n",
       "      <td>DLTR</td>\n",
       "      <td>115.56</td>\n",
       "      <td>119.889909</td>\n",
       "      <td>0.963884</td>\n",
       "    </tr>\n",
       "    <tr>\n",
       "      <th>504</th>\n",
       "      <td>INTC</td>\n",
       "      <td>59.24</td>\n",
       "      <td>86.853257</td>\n",
       "      <td>0.682070</td>\n",
       "    </tr>\n",
       "  </tbody>\n",
       "</table>\n",
       "<p>505 rows × 4 columns</p>\n",
       "</div>"
      ],
      "text/plain": [
       "    ticker  current_price  estimated_value  price_to_value\n",
       "0      PNR          64.31        32.952902        1.951573\n",
       "1     ALLE         138.35        81.129186        1.705305\n",
       "2      ITW         228.52        79.627078        2.869878\n",
       "3     AMAT         134.86        83.984804        1.605767\n",
       "4      NWL          26.54         8.312449        3.192802\n",
       "..     ...            ...              ...             ...\n",
       "500    UAL          53.11       -62.801429       -0.845681\n",
       "501    CDW         182.61       111.451585        1.638469\n",
       "502     MU          86.03        98.714240        0.871505\n",
       "503   DLTR         115.56       119.889909        0.963884\n",
       "504   INTC          59.24        86.853257        0.682070\n",
       "\n",
       "[505 rows x 4 columns]"
      ]
     },
     "metadata": {},
     "execution_count": 46
    }
   ],
   "metadata": {}
  },
  {
   "cell_type": "code",
   "execution_count": 27,
   "source": [],
   "outputs": [],
   "metadata": {}
  },
  {
   "cell_type": "code",
   "execution_count": null,
   "source": [],
   "outputs": [],
   "metadata": {}
  }
 ],
 "metadata": {
  "kernelspec": {
   "name": "python3",
   "display_name": "Python 3.7.9 64-bit ('valuation': conda)"
  },
  "language_info": {
   "codemirror_mode": {
    "name": "ipython",
    "version": 3
   },
   "file_extension": ".py",
   "mimetype": "text/x-python",
   "name": "python",
   "nbconvert_exporter": "python",
   "pygments_lexer": "ipython3",
   "version": "3.7.9"
  },
  "interpreter": {
   "hash": "26795bc530cfc80100dd1eb6b4506aabd2811f0081aa3af494bb076bde7916ee"
  }
 },
 "nbformat": 4,
 "nbformat_minor": 5
}